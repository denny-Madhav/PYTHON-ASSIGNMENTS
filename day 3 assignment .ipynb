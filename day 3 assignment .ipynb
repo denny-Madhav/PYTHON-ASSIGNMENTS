{
 "cells": [
  {
   "cell_type": "markdown",
   "metadata": {},
   "source": [
    "# 1st answer"
   ]
  },
  {
   "cell_type": "code",
   "execution_count": 11,
   "metadata": {},
   "outputs": [
    {
     "name": "stdout",
     "output_type": "stream",
     "text": [
      "[ 2  5  8 11 14 17 20 23 26 29 32 35 38 41 44 47]\n"
     ]
    }
   ],
   "source": [
    "import numpy as np\n",
    "arr=np.array(range(2,50,3))\n",
    "print(arr)"
   ]
  },
  {
   "cell_type": "markdown",
   "metadata": {},
   "source": [
    "# 2nd answer"
   ]
  },
  {
   "cell_type": "code",
   "execution_count": 2,
   "metadata": {},
   "outputs": [],
   "source": [
    "import numpy as DK"
   ]
  },
  {
   "cell_type": "code",
   "execution_count": 26,
   "metadata": {},
   "outputs": [
    {
     "name": "stdout",
     "output_type": "stream",
     "text": [
      "Enter five values for first list\n"
     ]
    },
    {
     "name": "stdin",
     "output_type": "stream",
     "text": [
      "1 22\n",
      "2 33\n",
      "3 44\n",
      "4 23\n",
      "5 24\n"
     ]
    },
    {
     "name": "stdout",
     "output_type": "stream",
     "text": [
      "Enter five values for second list\n"
     ]
    },
    {
     "name": "stdin",
     "output_type": "stream",
     "text": [
      "1 55\n",
      "2 66\n",
      "3 77\n",
      "4 56\n",
      "5 57\n"
     ]
    },
    {
     "name": "stdout",
     "output_type": "stream",
     "text": [
      " \n",
      " Concatination of two arrays\n",
      " \n",
      "[['22' '33' '44' '23' '24']\n",
      " ['55' '66' '77' '56' '57']]\n",
      " \n",
      "sorting\n",
      " \n",
      "[['22' '23' '24' '33' '44']\n",
      " ['55' '56' '57' '66' '77']]\n"
     ]
    }
   ],
   "source": [
    "k=[]\n",
    "l=[]\n",
    "\n",
    "print(\"Enter five values for first list\")\n",
    "for i in range(1,6):\n",
    "    x=input(i)\n",
    "    k.append(x)\n",
    "\n",
    "print(\"Enter five values for second list\")\n",
    "for i in range(1,6):\n",
    "    x=input(i)\n",
    "    l.append(x)\n",
    "\n",
    "arr1=DK.array([k])\n",
    "arr2=DK.array([l])\n",
    "\n",
    "\n",
    "print(\" \")\n",
    "print(\" Concatination of two arrays\")\n",
    "print(\" \")\n",
    "arr_con=DK.concatenate([arr1,arr2])\n",
    "print(arr_con)\n",
    "\n",
    "print(\" \")\n",
    "print(\"sorting\")\n",
    "print(\" \")\n",
    "print(DK.sort(arr_con))\n",
    "\n",
    "\n",
    "    \n"
   ]
  },
  {
   "cell_type": "markdown",
   "metadata": {},
   "source": [
    "# 3rd answer"
   ]
  },
  {
   "cell_type": "code",
   "execution_count": 32,
   "metadata": {},
   "outputs": [
    {
     "name": "stdout",
     "output_type": "stream",
     "text": [
      "dimension of array:  2\n",
      " \n",
      "Size of array:  9\n"
     ]
    }
   ],
   "source": [
    "\n",
    "arr=DK.array([[ 1, 2, 3],[ 4, 5, 6],[7,8,9]])\n",
    " \n",
    "print(\"dimension of array: \",arr.ndim)\n",
    "print(\" \")\n",
    "print(\"Size of array: \",arr.size)\n",
    " \n",
    "\n"
   ]
  },
  {
   "cell_type": "markdown",
   "metadata": {},
   "source": [
    "# 4th answer"
   ]
  },
  {
   "cell_type": "code",
   "execution_count": 74,
   "metadata": {},
   "outputs": [
    {
     "name": "stdout",
     "output_type": "stream",
     "text": [
      "[1 2 3 4 5 6]\n",
      " \n",
      "1D array converted into 2D array\n",
      "[[1 2 3]\n",
      " [4 5 6]]\n",
      " \n",
      "one row six column\n",
      "(1, 6)\n",
      "six rows six columns\n",
      "(6, 1)\n"
     ]
    }
   ],
   "source": [
    "arr_re=DK.array([1,2,3,4,5,6])\n",
    "print(arr_re)\n",
    "print(\" \")\n",
    "print(\"1D array converted into 2D array\")\n",
    "re=DK.reshape(arr_re,(2,3))\n",
    "print(re)\n",
    "print(\" \")\n",
    "\n",
    "# DK.newaxis\n",
    "row=arr_re[DK.newaxis,:]\n",
    "print(\"one row six column\")\n",
    "print(row.shape)\n",
    "col=arr_re[:,DK.newaxis]\n",
    "print(\"six rows six columns\")\n",
    "print(col.shape)\n",
    "\n"
   ]
  }
 ],
 "metadata": {
  "kernelspec": {
   "display_name": "Python 3",
   "language": "python",
   "name": "python3"
  },
  "language_info": {
   "codemirror_mode": {
    "name": "ipython",
    "version": 3
   },
   "file_extension": ".py",
   "mimetype": "text/x-python",
   "name": "python",
   "nbconvert_exporter": "python",
   "pygments_lexer": "ipython3",
   "version": "3.8.3"
  }
 },
 "nbformat": 4,
 "nbformat_minor": 4
}
