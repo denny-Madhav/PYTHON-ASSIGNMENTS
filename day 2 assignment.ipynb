{
 "cells": [
  {
   "cell_type": "markdown",
   "metadata": {},
   "source": [
    "# 1st answer"
   ]
  },
  {
   "cell_type": "code",
   "execution_count": 1,
   "metadata": {},
   "outputs": [
    {
     "name": "stdin",
     "output_type": "stream",
     "text": [
      " 12\n",
      " 13\n",
      " 14\n",
      " 15\n",
      " 16\n",
      " 17\n",
      " 18\n",
      " 19\n",
      " 25\n",
      " 28\n"
     ]
    },
    {
     "name": "stdout",
     "output_type": "stream",
     "text": [
      "[12, 14, 16, 18, 28]\n"
     ]
    }
   ],
   "source": [
    "l=[]\n",
    "for i in range(10):\n",
    "    x=int(input())\n",
    "    if x%2==0:\n",
    "        l.append(x)\n",
    "        \n",
    "print(l)"
   ]
  },
  {
   "cell_type": "markdown",
   "metadata": {},
   "source": [
    "# 2nd answer"
   ]
  },
  {
   "cell_type": "code",
   "execution_count": 3,
   "metadata": {},
   "outputs": [
    {
     "name": "stdout",
     "output_type": "stream",
     "text": [
      "['s', 't', 'r', 'i', 'n', 'g']\n"
     ]
    }
   ],
   "source": [
    "a = [letter for letter in \"string\"]\n",
    "print(a)"
   ]
  },
  {
   "cell_type": "markdown",
   "metadata": {},
   "source": [
    "# 3rd answer"
   ]
  },
  {
   "cell_type": "code",
   "execution_count": 9,
   "metadata": {},
   "outputs": [
    {
     "name": "stdin",
     "output_type": "stream",
     "text": [
      "Enter a number: 5\n"
     ]
    },
    {
     "name": "stdout",
     "output_type": "stream",
     "text": [
      "{1: 1, 2: 4, 3: 9, 4: 16, 5: 25}\n"
     ]
    }
   ],
   "source": [
    "n1=int(input(\"Enter a number:\"))\n",
    "dds={}\n",
    "for x in range(1,n1+1):\n",
    "    dds[x]=x*x\n",
    "    \n",
    "print(dds)"
   ]
  },
  {
   "cell_type": "markdown",
   "metadata": {},
   "source": [
    " # 4th answer"
   ]
  },
  {
   "cell_type": "code",
   "execution_count": 11,
   "metadata": {},
   "outputs": [
    {
     "name": "stdin",
     "output_type": "stream",
     "text": [
      "Type in UP/DOWN/LEFT/RIGHT #step number:  4\n"
     ]
    },
    {
     "name": "stdout",
     "output_type": "stream",
     "text": [
      "2.23606797749979 from [0,0] to [-1, 2]\n"
     ]
    }
   ],
   "source": [
    "import math\n",
    "position=[0,0]\n",
    "moves={\"UP\":[0,1],\n",
    "       \"DOWN\":[0,-1],\n",
    "       \"LEFT\":[-1,0],\n",
    "       \"RIGHT\":[1,0]}\n",
    "\n",
    "step = input(\"Type in UP/DOWN/LEFT/RIGHT #step number: \")\n",
    "data=[\"UP 5\",\n",
    "    \"DOWN 3\",\n",
    "    \"LEFT 3\",\n",
    "    \"RIGHT 2\"]\n",
    "\n",
    "\n",
    "for inp in data:\n",
    "    \n",
    "    \n",
    "    parts=inp.split()    \n",
    "    mv=parts[0]\n",
    "    val=parts[1]\n",
    "    if mv in moves and val.isnumeric():\n",
    "        position[0] += moves[mv][0]*int(val)\n",
    "        position[1] += moves[mv][1]*int(val)\n",
    "\n",
    "    \n",
    "distance=math.sqrt(position[0]**2 + position[1]**2)\n",
    "print(distance, \"from [0,0] to\",position)"
   ]
  },
  {
   "cell_type": "code",
   "execution_count": null,
   "metadata": {},
   "outputs": [],
   "source": []
  }
 ],
 "metadata": {
  "kernelspec": {
   "display_name": "Python 3",
   "language": "python",
   "name": "python3"
  },
  "language_info": {
   "codemirror_mode": {
    "name": "ipython",
    "version": 3
   },
   "file_extension": ".py",
   "mimetype": "text/x-python",
   "name": "python",
   "nbconvert_exporter": "python",
   "pygments_lexer": "ipython3",
   "version": "3.8.3"
  }
 },
 "nbformat": 4,
 "nbformat_minor": 4
}
